{
  "nbformat": 4,
  "nbformat_minor": 0,
  "metadata": {
    "colab": {
      "provenance": []
    },
    "kernelspec": {
      "name": "python3",
      "display_name": "Python 3"
    },
    "language_info": {
      "name": "python"
    }
  },
  "cells": [
    {
      "cell_type": "markdown",
      "source": [
        "# **Model Inference**"
      ],
      "metadata": {
        "id": "NLNQPAzCoqs7"
      }
    },
    {
      "cell_type": "markdown",
      "source": [
        "## Import Library"
      ],
      "metadata": {
        "id": "I7-f9KAYpDOW"
      }
    },
    {
      "cell_type": "code",
      "execution_count": 10,
      "metadata": {
        "id": "oNf-qxcVon_y"
      },
      "outputs": [],
      "source": [
        "import numpy as np\n",
        "import pickle as pkl\n",
        "import tensorflow as tf\n",
        "from tensorflow.keras.models import load_model\n",
        "from tensorflow.keras.preprocessing.sequence import pad_sequences"
      ]
    },
    {
      "cell_type": "markdown",
      "source": [
        "Insight : `Import libraries` untuk kebutuhan `inferencing model`."
      ],
      "metadata": {
        "id": "35i-HmkrxXSD"
      }
    },
    {
      "cell_type": "markdown",
      "source": [
        "## Load Preprocessor & Model"
      ],
      "metadata": {
        "id": "TZUJrMzYw0FN"
      }
    },
    {
      "cell_type": "code",
      "source": [
        "# Load tokenizer\n",
        "with open('tokenizer.pkl', 'rb') as fl:\n",
        "  tokenizer = pkl.load(fl)\n",
        "\n",
        "# Load model\n",
        "model = load_model('model.keras')"
      ],
      "metadata": {
        "colab": {
          "base_uri": "https://localhost:8080/"
        },
        "id": "IzLaM83ypCTE",
        "outputId": "13094583-167b-4110-80ce-59fae3b06d3e"
      },
      "execution_count": 5,
      "outputs": [
        {
          "output_type": "stream",
          "name": "stderr",
          "text": [
            "WARNING:absl:Skipping variable loading for optimizer 'Adam', because it has 1 variables whereas the saved optimizer has 15 variables. \n"
          ]
        }
      ]
    },
    {
      "cell_type": "markdown",
      "source": [
        "Insight : Load `tokenizer` dan `model` untuk kebutuhan `prediksi` menggunakan fungsi `open pada pickle` dan fungsi `load_model pada tensorflow`. Muncul `warning` dikarenakan kemungkinan pada saat `training` dan `inference` model menggunakan `tensorflow` dengan `beda versi`."
      ],
      "metadata": {
        "id": "luT2BfRcyKJz"
      }
    },
    {
      "cell_type": "markdown",
      "source": [
        "## Create New Sentence"
      ],
      "metadata": {
        "id": "uwsTa69yw9AZ"
      }
    },
    {
      "cell_type": "code",
      "source": [
        "new_sentences = \"thank you for the submission.. guys..\""
      ],
      "metadata": {
        "id": "0zg-n4SFpwLC"
      },
      "execution_count": 48,
      "outputs": []
    },
    {
      "cell_type": "markdown",
      "source": [
        "Insight : Mengisi kalimat baru untuk prediksi `emotion`."
      ],
      "metadata": {
        "id": "uriOJekay0ny"
      }
    },
    {
      "cell_type": "markdown",
      "source": [
        "## Padding Tokenizer"
      ],
      "metadata": {
        "id": "eczdwC4Fw_6R"
      }
    },
    {
      "cell_type": "code",
      "source": [
        "maxlen = 100\n",
        "new_sentence_seq = tokenizer.texts_to_sequences([new_sentences])\n",
        "new_sentence_pad = pad_sequences(new_sentence_seq, maxlen=maxlen, padding='post')"
      ],
      "metadata": {
        "id": "HxseOFUSstPn"
      },
      "execution_count": 49,
      "outputs": []
    },
    {
      "cell_type": "markdown",
      "source": [
        "Insight : Melakukan `padding` pada `tokenizer` terlebih dahulu agar mengubah teks menjadi `indeks token`."
      ],
      "metadata": {
        "id": "tG5j-vD8y7iC"
      }
    },
    {
      "cell_type": "markdown",
      "source": [
        "## Prediction"
      ],
      "metadata": {
        "id": "IsjvPCgwxFQB"
      }
    },
    {
      "cell_type": "code",
      "source": [
        "predictions = model.predict(new_sentence_pad)\n",
        "predicted_class = np.argmax(predictions)\n",
        "if predicted_class == 0:\n",
        "    print(\"Fear\")\n",
        "elif predicted_class == 1:\n",
        "    print(\"Joy\")\n",
        "elif predicted_class == 2:\n",
        "    print(\"Anger\")\n",
        "else:\n",
        "    print(\"Sadness\")"
      ],
      "metadata": {
        "colab": {
          "base_uri": "https://localhost:8080/"
        },
        "id": "id_SlGqBtHyZ",
        "outputId": "cf439fd4-d655-44ec-b183-b36e06ce0ef9"
      },
      "execution_count": 50,
      "outputs": [
        {
          "output_type": "stream",
          "name": "stdout",
          "text": [
            "1/1 [==============================] - 0s 30ms/step\n",
            "Joy\n"
          ]
        }
      ]
    },
    {
      "cell_type": "markdown",
      "source": [
        "Insight : Pada hasil kalimat yang baru, prediksinya adalah `\"Joy\"`."
      ],
      "metadata": {
        "id": "NfX2yUtzzSLX"
      }
    }
  ]
}